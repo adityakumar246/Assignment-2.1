{
 "cells": [
  {
   "cell_type": "markdown",
   "metadata": {},
   "source": [
    "QUESTION"
   ]
  },
  {
   "cell_type": "markdown",
   "metadata": {},
   "source": [
    "Problem Statement 1:\n",
    "Write a Python Program to implement your own myreduce() function which works exactly\n",
    "like Python's built-in function reduce()\n",
    "\n",
    "Problem Statement 2:\n",
    "Write a Python program to implement your own myfilter() function which works exactly\n",
    "like Python's built-in function filter()"
   ]
  },
  {
   "cell_type": "markdown",
   "metadata": {},
   "source": [
    "ANSWER"
   ]
  },
  {
   "cell_type": "code",
   "execution_count": 1,
   "metadata": {},
   "outputs": [
    {
     "name": "stdout",
     "output_type": "stream",
     "text": [
      "The minimum number is : 3\n",
      "The list of prime numbers : [1, 3, 5, 7, 11, 13, 17, 19, 23, 29, 31, 37, 41, 43, 47]\n"
     ]
    }
   ],
   "source": [
    "'''Finding the lowest number using myreduce function'''\n",
    "\n",
    "def myreduce(list,first,second):\n",
    "    if(first<=second):\n",
    "        minimum = first\n",
    "    else:\n",
    "        minimum = second\n",
    "    for i in list[2:]:\n",
    "        if(i<=minimum):\n",
    "            minimum = i\n",
    "    return minimum       \n",
    "list=[5,9,14,3,24,17,19,3,30]\n",
    "print(\"The minimum number is :\", myreduce(list,list[0],list[1]))\n",
    "\n",
    "'''Finding the Prime numbers using mylist function'''\n",
    "\n",
    "def myfilter(list):\n",
    "    prime_list=[1]\n",
    "    for i in list:\n",
    "        prime = 0\n",
    "        for j in range(2,i):\n",
    "            if(i%j == 0):\n",
    "                prime = 0\n",
    "                break\n",
    "            else:\n",
    "                prime = 1\n",
    "                continue\n",
    "        if(prime):\n",
    "            prime_list.append(i)\n",
    "    return prime_list       \n",
    "list = range(1,50)\n",
    "print(\"The list of prime numbers :\", myfilter(list))"
   ]
  }
 ],
 "metadata": {
  "kernelspec": {
   "display_name": "Python 3",
   "language": "python",
   "name": "python3"
  },
  "language_info": {
   "codemirror_mode": {
    "name": "ipython",
    "version": 3
   },
   "file_extension": ".py",
   "mimetype": "text/x-python",
   "name": "python",
   "nbconvert_exporter": "python",
   "pygments_lexer": "ipython3",
   "version": "3.6.6"
  }
 },
 "nbformat": 4,
 "nbformat_minor": 2
}
